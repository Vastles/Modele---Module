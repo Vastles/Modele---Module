{
 "cells": [
  {
   "attachments": {},
   "cell_type": "markdown",
   "metadata": {},
   "source": [
    "# Modele - Module"
   ]
  },
  {
   "attachments": {},
   "cell_type": "markdown",
   "metadata": {},
   "source": [
    "* Fast & Light"
   ]
  },
  {
   "attachments": {},
   "cell_type": "markdown",
   "metadata": {},
   "source": [
    "# Pandas"
   ]
  },
  {
   "cell_type": "code",
   "execution_count": 37,
   "metadata": {},
   "outputs": [
    {
     "data": {
      "text/plain": [
       "'1.5.2'"
      ]
     },
     "execution_count": 37,
     "metadata": {},
     "output_type": "execute_result"
    }
   ],
   "source": [
    "import pandas as pd\n",
    "pd.__version__"
   ]
  },
  {
   "attachments": {},
   "cell_type": "markdown",
   "metadata": {},
   "source": [
    "# Code"
   ]
  },
  {
   "cell_type": "code",
   "execution_count": 61,
   "metadata": {},
   "outputs": [
    {
     "data": {
      "text/html": [
       "<div>\n",
       "<style scoped>\n",
       "    .dataframe tbody tr th:only-of-type {\n",
       "        vertical-align: middle;\n",
       "    }\n",
       "\n",
       "    .dataframe tbody tr th {\n",
       "        vertical-align: top;\n",
       "    }\n",
       "\n",
       "    .dataframe thead th {\n",
       "        text-align: right;\n",
       "    }\n",
       "</style>\n",
       "<table border=\"1\" class=\"dataframe\">\n",
       "  <thead>\n",
       "    <tr style=\"text-align: right;\">\n",
       "      <th></th>\n",
       "      <th>Student</th>\n",
       "      <th>Topic</th>\n",
       "    </tr>\n",
       "  </thead>\n",
       "  <tbody>\n",
       "    <tr>\n",
       "      <th>0</th>\n",
       "      <td>Tayeb</td>\n",
       "      <td>Frame</td>\n",
       "    </tr>\n",
       "    <tr>\n",
       "      <th>1</th>\n",
       "      <td>Etienne</td>\n",
       "      <td>GitHub</td>\n",
       "    </tr>\n",
       "    <tr>\n",
       "      <th>2</th>\n",
       "      <td>Nael</td>\n",
       "      <td>Print</td>\n",
       "    </tr>\n",
       "    <tr>\n",
       "      <th>3</th>\n",
       "      <td>Etienne</td>\n",
       "      <td>Syntaxe</td>\n",
       "    </tr>\n",
       "    <tr>\n",
       "      <th>4</th>\n",
       "      <td>Etienne</td>\n",
       "      <td>For Loop</td>\n",
       "    </tr>\n",
       "  </tbody>\n",
       "</table>\n",
       "</div>"
      ],
      "text/plain": [
       "   Student     Topic\n",
       "0    Tayeb     Frame\n",
       "1  Etienne    GitHub\n",
       "2     Nael     Print\n",
       "3  Etienne   Syntaxe\n",
       "4  Etienne  For Loop"
      ]
     },
     "execution_count": 61,
     "metadata": {},
     "output_type": "execute_result"
    }
   ],
   "source": [
    "import random\n",
    "\n",
    "list_student = ['Alexandre', 'Anis', 'Antoine', 'Etienne', 'Nael', 'Oscar', 'Souleyman', 'Victor', 'Tayeb', 'Youssouf']\n",
    "list_topic = ['GitHub', 'For Loop', 'Print', 'While Loop', 'Dictionnary', 'Frame', 'Syntaxe', 'Tuple']\n",
    "random_list_student = []\n",
    "random_list_topic = []\n",
    "rep_list_topic = list_topic\n",
    "size = len(list_student)\n",
    "\n",
    "for name in list_student:\n",
    "    random_list_student.append(random.choice(list_student))\n",
    "    list_student.remove(name)\n",
    "\n",
    "for name in random_list_student:\n",
    "    if len(list_topic) > 0:\n",
    "        topic = random.choice(list_topic)\n",
    "        random_list_topic.append(topic)\n",
    "        list_topic.remove(topic)\n",
    "    else:\n",
    "        list_topic = rep_list_topic\n",
    "\n",
    "\n",
    "data = {}\n",
    "data['Student'] = random_list_student\n",
    "data['Topic'] = random_list_topic\n",
    "data_frame = pd.DataFrame(data)\n",
    "\n",
    "data_frame\n"
   ]
  }
 ],
 "metadata": {
  "kernelspec": {
   "display_name": "Python 3",
   "language": "python",
   "name": "python3"
  },
  "language_info": {
   "codemirror_mode": {
    "name": "ipython",
    "version": 3
   },
   "file_extension": ".py",
   "mimetype": "text/x-python",
   "name": "python",
   "nbconvert_exporter": "python",
   "pygments_lexer": "ipython3",
   "version": "3.10.9"
  },
  "orig_nbformat": 4,
  "vscode": {
   "interpreter": {
    "hash": "65a440aeac0c89e2af7569e0aa53b64434c4b69eb6285e2b0d174d9bca190d54"
   }
  }
 },
 "nbformat": 4,
 "nbformat_minor": 2
}
