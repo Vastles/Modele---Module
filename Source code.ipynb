{
 "cells": [
  {
   "attachments": {},
   "cell_type": "markdown",
   "metadata": {},
   "source": [
    "# Modele - Module"
   ]
  },
  {
   "attachments": {},
   "cell_type": "markdown",
   "metadata": {},
   "source": [
    "* Fast & Light"
   ]
  },
  {
   "attachments": {},
   "cell_type": "markdown",
   "metadata": {},
   "source": [
    "# Pandas"
   ]
  },
  {
   "cell_type": "code",
   "execution_count": 37,
   "metadata": {},
   "outputs": [
    {
     "data": {
      "text/plain": [
       "'1.5.2'"
      ]
     },
     "execution_count": 37,
     "metadata": {},
     "output_type": "execute_result"
    }
   ],
   "source": [
    "import pandas as pd\n",
    "pd.__version__"
   ]
  },
  {
   "attachments": {},
   "cell_type": "markdown",
   "metadata": {},
   "source": [
    "# Code"
   ]
  },
  {
   "cell_type": "code",
   "execution_count": 109,
   "metadata": {},
   "outputs": [
    {
     "data": {
      "text/html": [
       "<div>\n",
       "<style scoped>\n",
       "    .dataframe tbody tr th:only-of-type {\n",
       "        vertical-align: middle;\n",
       "    }\n",
       "\n",
       "    .dataframe tbody tr th {\n",
       "        vertical-align: top;\n",
       "    }\n",
       "\n",
       "    .dataframe thead th {\n",
       "        text-align: right;\n",
       "    }\n",
       "</style>\n",
       "<table border=\"1\" class=\"dataframe\">\n",
       "  <thead>\n",
       "    <tr style=\"text-align: right;\">\n",
       "      <th></th>\n",
       "      <th>Student</th>\n",
       "      <th>Topic</th>\n",
       "    </tr>\n",
       "  </thead>\n",
       "  <tbody>\n",
       "    <tr>\n",
       "      <th>0</th>\n",
       "      <td>Antoine</td>\n",
       "      <td>Tuple</td>\n",
       "    </tr>\n",
       "    <tr>\n",
       "      <th>1</th>\n",
       "      <td>Souleyman</td>\n",
       "      <td>GitHub</td>\n",
       "    </tr>\n",
       "    <tr>\n",
       "      <th>2</th>\n",
       "      <td>Victor</td>\n",
       "      <td>While Loop</td>\n",
       "    </tr>\n",
       "    <tr>\n",
       "      <th>3</th>\n",
       "      <td>Etienne</td>\n",
       "      <td>Syntaxe</td>\n",
       "    </tr>\n",
       "    <tr>\n",
       "      <th>4</th>\n",
       "      <td>Anis</td>\n",
       "      <td>Print</td>\n",
       "    </tr>\n",
       "    <tr>\n",
       "      <th>5</th>\n",
       "      <td>Oscar</td>\n",
       "      <td>For Loop</td>\n",
       "    </tr>\n",
       "    <tr>\n",
       "      <th>6</th>\n",
       "      <td>Youssouf</td>\n",
       "      <td>Diagramme</td>\n",
       "    </tr>\n",
       "    <tr>\n",
       "      <th>7</th>\n",
       "      <td>Tayeb</td>\n",
       "      <td>Variable</td>\n",
       "    </tr>\n",
       "    <tr>\n",
       "      <th>8</th>\n",
       "      <td>Alexandre</td>\n",
       "      <td>Frame</td>\n",
       "    </tr>\n",
       "    <tr>\n",
       "      <th>9</th>\n",
       "      <td>Nael</td>\n",
       "      <td>Dictionnary</td>\n",
       "    </tr>\n",
       "  </tbody>\n",
       "</table>\n",
       "</div>"
      ],
      "text/plain": [
       "     Student        Topic\n",
       "0    Antoine        Tuple\n",
       "1  Souleyman       GitHub\n",
       "2     Victor   While Loop\n",
       "3    Etienne      Syntaxe\n",
       "4       Anis        Print\n",
       "5      Oscar     For Loop\n",
       "6   Youssouf    Diagramme\n",
       "7      Tayeb     Variable\n",
       "8  Alexandre        Frame\n",
       "9       Nael  Dictionnary"
      ]
     },
     "execution_count": 109,
     "metadata": {},
     "output_type": "execute_result"
    }
   ],
   "source": [
    import random  # Pour mélanger les listes de manière aléatoire
import pandas as pd  # Pour manipuler les données et gérer les fichiers CSV

# Définition de deux listes : une pour les étudiants, une autre pour les sujets
list_student = ['Alexandre', 'Anis', 'Antoine', 'Etienne', 'Nael', 'Oscar', 'Souleyman', 'Victor', 'Tayeb', 'Youssouf']
list_topic = ['GitHub', 'For Loop', 'Print', 'While Loop', 'Dictionnary', 'Frame', 'Syntaxe', 'Tuple', 'Variable', 'Diagramme']

# Mélange aléatoire des listes pour créer une association unique
random.shuffle(list_student)  # Mélange la liste des étudiants
random.shuffle(list_topic)    # Mélange la liste des sujets

# Création d'un dictionnaire pour associer chaque étudiant à un sujet
data = {}
data['Student'] = list_student  # Ajoute la liste des étudiants au dictionnaire
data['Topic'] = list_topic      # Ajoute la liste des sujets au dictionnaire

# Conversion du dictionnaire en DataFrame Pandas
data_frame = pd.DataFrame(data)

# Sauvegarde du DataFrame dans un fichier CSV
data_frame.to_csv('association.csv', index=False)  # Écrit les données dans un fichier sans inclure l'index

# Lecture du fichier CSV pour validation
csv = pd.read_csv('association.csv')  # Charge les données depuis le fichier CSV
csv  # Affiche le contenu du DataFrame

   ]
  }
 ],
 "metadata": {
  "kernelspec": {
   "display_name": "Python 3",
   "language": "python",
   "name": "python3"
  },
  "language_info": {
   "codemirror_mode": {
    "name": "ipython",
    "version": 3
   },
   "file_extension": ".py",
   "mimetype": "text/x-python",
   "name": "python",
   "nbconvert_exporter": "python",
   "pygments_lexer": "ipython3",
   "version": "3.10.9"
  },
  "orig_nbformat": 4,
  "vscode": {
   "interpreter": {
    "hash": "65a440aeac0c89e2af7569e0aa53b64434c4b69eb6285e2b0d174d9bca190d54"
   }
  }
 },
 "nbformat": 4,
 "nbformat_minor": 2
}
